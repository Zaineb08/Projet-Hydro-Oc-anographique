{
 "cells": [
  {
   "cell_type": "markdown",
   "id": "c67cf9f2",
   "metadata": {},
   "source": [
    "# Projet d'Analyse Hydro-Océanographique \n",
    "### Etude de cas: Carte nautique entre Casablanca et Rabat "
   ]
  },
  {
   "cell_type": "markdown",
   "id": "a0278658",
   "metadata": {},
   "source": [
    "## 1. Préparation de l'environnement"
   ]
  },
  {
   "cell_type": "code",
   "execution_count": null,
   "id": "21e748d2",
   "metadata": {},
   "outputs": [],
   "source": [
    "# Imports & configurations globales\n",
    "import os\n",
    "import numpy as np\n",
    "import pandas as pd\n",
    "import xarray as xr\n",
    "import matplotlib.pyplot as plt\n",
    "import seaborn as sns\n",
    "\n",
    "from sklearn.preprocessing import StandardScaler, LabelEncoder\n",
    "from sklearn.model_selection import train_test_split\n",
    "from sklearn.tree import DecisionTreeClassifier, plot_tree\n",
    "from sklearn.metrics import accuracy_score, classification_report\n",
    "\n",
    "# Pour le réseau bayésien\n",
    "from pgmpy.models import BayesianNetwork\n",
    "from pgmpy.estimators import HillClimbSearch, BicScore, BayesianEstimator\n",
    "\n",
    "# Pour le clustering hiérarchique\n",
    "from scipy.cluster.hierarchy import linkage, fcluster, dendrogram\n",
    "\n",
    "# Pour le Deep Learning\n",
    "import tensorflow as tf\n",
    "\n",
    "sns.set(style='whitegrid', rc={'figure.figsize':(10,6)})\n",
    "plt.rcParams['figure.figsize'] = (12, 8)\n",
    "\n",
    "RAW_DIR       = os.path.join('..', 'data', 'raw')\n",
    "PROCESSED_DIR = os.path.join('..', 'data', 'processed')\n",
    "os.makedirs(PROCESSED_DIR, exist_ok=True)\n"
   ]
  }
 ],
 "metadata": {
  "kernelspec": {
   "display_name": "base",
   "language": "python",
   "name": "python3"
  },
  "language_info": {
   "codemirror_mode": {
    "name": "ipython",
    "version": 3
   },
   "file_extension": ".py",
   "mimetype": "text/x-python",
   "name": "python",
   "nbconvert_exporter": "python",
   "pygments_lexer": "ipython3",
   "version": "3.12.7"
  }
 },
 "nbformat": 4,
 "nbformat_minor": 5
}
